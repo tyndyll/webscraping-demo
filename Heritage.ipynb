{
 "cells": [
  {
   "cell_type": "code",
   "execution_count": null,
   "id": "22553cce-e4d1-41ec-a7ae-9b871d466ed2",
   "metadata": {},
   "outputs": [],
   "source": [
    "import requests\n",
    "\n",
    "from bs4 import BeautifulSoup"
   ]
  },
  {
   "cell_type": "code",
   "execution_count": null,
   "id": "9435c444-92a5-486c-a646-b78c26feffef",
   "metadata": {},
   "outputs": [],
   "source": [
    "heritage_url = \"https://www.communities-ni.gov.uk/articles/historic-places-visit\""
   ]
  },
  {
   "cell_type": "code",
   "execution_count": null,
   "id": "9229c6d8-04a0-4bfe-a48a-6e7dcbcbba2a",
   "metadata": {},
   "outputs": [],
   "source": [
    "response = requests.get(heritage_url)"
   ]
  },
  {
   "cell_type": "code",
   "execution_count": null,
   "id": "d27167b3-7e14-4bd5-8071-37551389866b",
   "metadata": {},
   "outputs": [],
   "source": [
    "response.status_code"
   ]
  },
  {
   "cell_type": "code",
   "execution_count": null,
   "id": "a67af3ad-4b61-4a1a-a2f6-674171595d6e",
   "metadata": {},
   "outputs": [],
   "source": [
    "soup = BeautifulSoup(response.text)"
   ]
  },
  {
   "cell_type": "code",
   "execution_count": null,
   "id": "7f0fe4a2-5b4f-4cfb-8764-9ad1d9600ce0",
   "metadata": {},
   "outputs": [],
   "source": [
    "counties = soup.find_all(\"h4\")"
   ]
  },
  {
   "cell_type": "code",
   "execution_count": null,
   "id": "a8368ca6-23a1-4a06-84b9-c4d67a03c395",
   "metadata": {},
   "outputs": [],
   "source": [
    "counties"
   ]
  },
  {
   "cell_type": "code",
   "execution_count": null,
   "id": "c3ff056c-b7c2-4b95-a7fd-ab27078fbf72",
   "metadata": {},
   "outputs": [],
   "source": [
    "for county in counties:\n",
    "    print(county)\n",
    "    print(county.find_next_sibling())"
   ]
  },
  {
   "cell_type": "code",
   "execution_count": null,
   "id": "1ed323b2-fd30-467f-b8ba-8d453c2db614",
   "metadata": {},
   "outputs": [],
   "source": [
    "antrim = counties[0]"
   ]
  },
  {
   "cell_type": "code",
   "execution_count": null,
   "id": "a4504386-3f9c-47f4-8dc2-8c0383bc52e8",
   "metadata": {},
   "outputs": [],
   "source": [
    "for item in antrim.find_next_sibling().find_all(\"a\"):\n",
    "    print(item)"
   ]
  },
  {
   "cell_type": "code",
   "execution_count": null,
   "id": "1c23a8a3-d8f9-40a6-8be4-e5d01b38fb97",
   "metadata": {},
   "outputs": [],
   "source": [
    "link = \"\"\n",
    "for item in antrim.find_next_sibling().find_all(\"a\"):\n",
    "    link = item[\"href\"]\n",
    "    break\n",
    "link"
   ]
  },
  {
   "cell_type": "code",
   "execution_count": null,
   "id": "7b94b9b4-6f1b-446c-b35e-9363f40f1c64",
   "metadata": {},
   "outputs": [],
   "source": [
    "from urllib.parse import urljoin\n",
    "\n",
    "site_link = urljoin(heritage_url, link)\n",
    "site_link"
   ]
  },
  {
   "cell_type": "code",
   "execution_count": null,
   "id": "550a878c-3eef-4cb7-8fb7-5da9584c2ddb",
   "metadata": {},
   "outputs": [],
   "source": [
    "response = requests.get(site_link)"
   ]
  },
  {
   "cell_type": "code",
   "execution_count": null,
   "id": "3f3780a5-db26-4b35-954e-de5e3a31ea16",
   "metadata": {},
   "outputs": [],
   "source": [
    "soup = BeautifulSoup(response.text)"
   ]
  },
  {
   "cell_type": "code",
   "execution_count": null,
   "id": "bb39b80b-0664-470b-bbdf-2a9bb5b8ac02",
   "metadata": {},
   "outputs": [],
   "source": [
    "address = soup.find(\"div\", class_=\"group-address\")\n",
    "address"
   ]
  },
  {
   "cell_type": "code",
   "execution_count": null,
   "id": "8aca4f9a-8eb0-4a1f-a3aa-6f4a838c5aba",
   "metadata": {},
   "outputs": [],
   "source": [
    "phone = soup.find(\"div\", class_=\"field-phone\")\n",
    "phone.get_text()"
   ]
  },
  {
   "cell_type": "code",
   "execution_count": null,
   "id": "8b301957-5bfa-4da3-acbd-29db40353dc6",
   "metadata": {},
   "outputs": [],
   "source": []
  }
 ],
 "metadata": {
  "kernelspec": {
   "display_name": "Python 3 (ipykernel)",
   "language": "python",
   "name": "python3"
  },
  "language_info": {
   "codemirror_mode": {
    "name": "ipython",
    "version": 3
   },
   "file_extension": ".py",
   "mimetype": "text/x-python",
   "name": "python",
   "nbconvert_exporter": "python",
   "pygments_lexer": "ipython3",
   "version": "3.8.10"
  }
 },
 "nbformat": 4,
 "nbformat_minor": 5
}
